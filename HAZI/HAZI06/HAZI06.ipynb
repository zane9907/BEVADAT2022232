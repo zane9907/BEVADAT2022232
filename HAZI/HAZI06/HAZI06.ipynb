{
 "cells": [
  {
   "cell_type": "code",
   "execution_count": 20,
   "metadata": {},
   "outputs": [],
   "source": [
    "# from sklearn.model_selection import train_test_split\n",
    "from NJCleaner import NJCleaner\n",
    "from DecisionTreeClassifier  import DecisionTreeClassifier"
   ]
  },
  {
   "cell_type": "code",
   "execution_count": 21,
   "metadata": {},
   "outputs": [
    {
     "ename": "AttributeError",
     "evalue": "'NJCleaner' object has no attribute 'prep_df'",
     "output_type": "error",
     "traceback": [
      "\u001b[1;31m---------------------------------------------------------------------------\u001b[0m",
      "\u001b[1;31mAttributeError\u001b[0m                            Traceback (most recent call last)",
      "Cell \u001b[1;32mIn[21], line 2\u001b[0m\n\u001b[0;32m      1\u001b[0m nj \u001b[39m=\u001b[39m NJCleaner(\u001b[39m'\u001b[39m\u001b[39m./2018_03.csv\u001b[39m\u001b[39m'\u001b[39m)\n\u001b[1;32m----> 2\u001b[0m nj\u001b[39m.\u001b[39;49mprep_df()\n",
      "\u001b[1;31mAttributeError\u001b[0m: 'NJCleaner' object has no attribute 'prep_df'"
     ]
    }
   ],
   "source": [
    "nj = NJCleaner('./2018_03.csv')\n",
    "nj.prep_df()"
   ]
  }
 ],
 "metadata": {
  "kernelspec": {
   "display_name": "Python 3",
   "language": "python",
   "name": "python3"
  },
  "language_info": {
   "codemirror_mode": {
    "name": "ipython",
    "version": 3
   },
   "file_extension": ".py",
   "mimetype": "text/x-python",
   "name": "python",
   "nbconvert_exporter": "python",
   "pygments_lexer": "ipython3",
   "version": "3.11.2"
  },
  "orig_nbformat": 4
 },
 "nbformat": 4,
 "nbformat_minor": 2
}
